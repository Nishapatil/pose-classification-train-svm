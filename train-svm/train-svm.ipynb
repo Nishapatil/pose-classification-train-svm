{
 "cells": [
  {
   "cell_type": "markdown",
   "id": "optical-startup",
   "metadata": {},
   "source": [
    "# Classifying Poses\n",
    "\n",
    "## Goal\n",
    "\n",
    "Take key point output of a pose estimator and clasify poses without manually defining threshold checks.\n",
    "\n",
    "## High-Level Workflow\n",
    "1. Gather image dataset\n",
    "1. Perform pose estimation and save keypoints\n",
    "1. Load data\n",
    "1. Clean and normalize data to be used as input to SVM\n",
    "1. Choose a classifier\n",
    "1. Train Classifier\n",
    "1. Test Classifier\n",
    "\n",
    "Let's begin by defining the class labels and key points to be used:"
   ]
  },
  {
   "cell_type": "code",
   "execution_count": null,
   "id": "empty-seven",
   "metadata": {},
   "outputs": [],
   "source": [
    "POSES = {\n",
    "        \"Tree_Pose_or_Vrksasana_\": 0,\n",
    "        \"Extended_Revolved_Triangle_Pose_or_Utthita_Trikonasana_\": 1,\n",
    "        \"Warrior_I_Pose_or_Virabhadrasana_I_\": 2,\n",
    "        \"Warrior_II_Pose_or_Virabhadrasana_II_\": 3,\n",
    "        \"Warrior_III_Pose_or_Virabhadrasana_III_\": 4\n",
    "        }\n",
    "\n",
    "KEY_POINTS = [\n",
    "        'Neck', 'Right Shoulder', 'Right Elbow', 'Right Wrist',\n",
    "        'Left Shoulder', 'Left Elbow', 'Left Wrist', 'Right Hip', 'Right Knee',\n",
    "        'Right Ankle', 'Left Hip', 'Left Knee', 'Left Ankle']"
   ]
  },
  {
   "cell_type": "markdown",
   "id": "lovely-drain",
   "metadata": {},
   "source": [
    "## 3. Load Data"
   ]
  },
  {
   "cell_type": "code",
   "execution_count": null,
   "id": "completed-rainbow",
   "metadata": {},
   "outputs": [],
   "source": [
    "import pandas as pd\n",
    "import os\n",
    "\n",
    "data = {}\n",
    "\n",
    "for pose, class_id in POSES.items():\n",
    "    data[class_id] = pd.read_csv(os.path.join('in', '{}.csv'.format(pose)), index_col=0)"
   ]
  },
  {
   "cell_type": "code",
   "execution_count": null,
   "id": "protecting-directory",
   "metadata": {},
   "outputs": [],
   "source": [
    "print(data[0][['Neck y', 'Right Wrist y', 'Left Wrist y']].head())"
   ]
  },
  {
   "cell_type": "code",
   "execution_count": null,
   "id": "enhanced-penguin",
   "metadata": {},
   "outputs": [],
   "source": [
    "print(data[1][['Neck y', 'Right Wrist y', 'Left Wrist y']].head())"
   ]
  },
  {
   "cell_type": "markdown",
   "id": "conditional-declaration",
   "metadata": {},
   "source": [
    "## 4. Clean and Normalize Data"
   ]
  },
  {
   "cell_type": "code",
   "execution_count": null,
   "id": "based-tension",
   "metadata": {},
   "outputs": [],
   "source": [
    "normalized_data = {}\n",
    "\n",
    "for pose, class_id in POSES.items():\n",
    "    df = data[class_id].copy()\n",
    "\n",
    "    # Remove all rows with missing key points\n",
    "    df = df[(df.T != -1).any()]\n",
    "\n",
    "    # Center all points around neck\n",
    "    for kp in KEY_POINTS[1:]:\n",
    "        df['{} x'.format(kp)] = df['{} x'.format(kp)] - df['Neck x']\n",
    "        df['{} y'.format(kp)] = df['{} y'.format(kp)] - df['Neck y']\n",
    "\n",
    "    # Remove neck columns since they are the [0, 0]\n",
    "    df = df.drop(columns=['Neck x', 'Neck y'])\n",
    "\n",
    "    # Normalize to the range [0, 1]\n",
    "    pose_mean = df.stack().mean()\n",
    "    pose_std = df.stack().std()\n",
    "    df = (df - pose_mean) / pose_std\n",
    "\n",
    "    normalized_data[class_id] = df\n",
    "    df.to_csv(os.path.join('normalized', '{}.csv'.format(pose)), index=False)"
   ]
  },
  {
   "cell_type": "code",
   "execution_count": null,
   "id": "presidential-marathon",
   "metadata": {},
   "outputs": [],
   "source": [
    "print(normalized_data[0][['Right Wrist y', 'Left Wrist y']].head())"
   ]
  },
  {
   "cell_type": "code",
   "execution_count": null,
   "id": "quiet-floor",
   "metadata": {},
   "outputs": [],
   "source": [
    "print(normalized_data[1][['Right Wrist y', 'Left Wrist y']].head())"
   ]
  },
  {
   "cell_type": "markdown",
   "id": "champion-alignment",
   "metadata": {},
   "source": [
    "## 5. Choose Your Classifier\n",
    "\n",
    "We'll be using Scikit-Learn: https://scikit-learn.org/stable/tutorial/machine_learning_map/index.html"
   ]
  },
  {
   "cell_type": "markdown",
   "id": "christian-mozambique",
   "metadata": {},
   "source": [
    "## 6. Train Classifier"
   ]
  },
  {
   "cell_type": "code",
   "execution_count": null,
   "id": "analyzed-activation",
   "metadata": {},
   "outputs": [],
   "source": [
    "import numpy as np\n",
    "from sklearn.svm import LinearSVC\n",
    "\n",
    "NUM_TEST = 10\n",
    "\n",
    "X_train = None\n",
    "y_train = None\n",
    "X_test = None\n",
    "y_test = None\n",
    "\n",
    "for pose, class_id in POSES.items():\n",
    "    df = normalized_data[class_id]\n",
    "\n",
    "    X_pose = df.to_numpy()\n",
    "    y_pose = [class_id] * df.shape[0]\n",
    "\n",
    "    print('X shape for {}:'.format(pose), X_pose.shape)\n",
    "    print('y length:', len(y_pose))\n",
    "\n",
    "    X_pose_train = X_pose[:-NUM_TEST][:]\n",
    "    y_pose_train = y_pose[:-NUM_TEST]\n",
    "\n",
    "    X_pose_test = X_pose[-NUM_TEST:][:]\n",
    "    y_pose_test = y_pose[-NUM_TEST:]\n",
    "\n",
    "    if X_train is None:\n",
    "        X_train = X_pose_train\n",
    "    else:\n",
    "        X_train = np.concatenate((X_train, X_pose_train), axis=0)\n",
    "\n",
    "    if y_train is None:\n",
    "        y_train = y_pose_train\n",
    "    else:\n",
    "        y_train = np.concatenate((y_train, y_pose_train))\n",
    "\n",
    "    if X_test is None:\n",
    "        X_test = X_pose_test\n",
    "    else:\n",
    "        X_test = np.concatenate((X_test, X_pose_test), axis=0)\n",
    "\n",
    "    if y_test is None:\n",
    "        y_test = y_pose_test\n",
    "    else:\n",
    "        y_test = np.concatenate((y_test, y_pose_test))\n",
    "    \n",
    "clf = LinearSVC(C=1.0)\n",
    "clf.fit(X_train, y_train)"
   ]
  },
  {
   "cell_type": "markdown",
   "id": "immune-missouri",
   "metadata": {},
   "source": [
    "## 7. Test Classifier"
   ]
  },
  {
   "cell_type": "code",
   "execution_count": null,
   "id": "nuclear-confidence",
   "metadata": {},
   "outputs": [],
   "source": [
    "tests = list(zip(clf.predict(X_test), y_test))\n",
    "print('Results:\\n', tests)\n",
    "\n",
    "incorrect = [element for element in tests if element[0] != element[1]]\n",
    "print('Wrongly Classified:\\n', incorrect)\n",
    "\n",
    "print('Ratio correct:', 1 - (len(incorrect) / len(tests)))"
   ]
  }
 ],
 "metadata": {
  "kernelspec": {
   "display_name": "Python 3",
   "language": "python",
   "name": "python3"
  },
  "language_info": {
   "codemirror_mode": {
    "name": "ipython",
    "version": 3
   },
   "file_extension": ".py",
   "mimetype": "text/x-python",
   "name": "python",
   "nbconvert_exporter": "python",
   "pygments_lexer": "ipython3",
   "version": "3.6.9"
  }
 },
 "nbformat": 4,
 "nbformat_minor": 5
}
